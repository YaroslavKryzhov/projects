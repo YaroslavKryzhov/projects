{
 "cells": [
  {
   "cell_type": "code",
   "execution_count": 7,
   "metadata": {},
   "outputs": [],
   "source": [
    "import numpy as np\n",
    "import matplotlib.pyplot as plt\n",
    "import pandas as pd"
   ]
  },
  {
   "cell_type": "code",
   "execution_count": 8,
   "metadata": {},
   "outputs": [],
   "source": [
    "# функция визуализации квадратного массива\n",
    "def visual_array(array):\n",
    "    fig, ax = plt.subplots(figsize=(3, 3))  # Устанавливаем размер изображения\n",
    "    # проходимся по каждому элементу матрицы\n",
    "    for i in range(array.shape[0]):\n",
    "        for j in range(array.shape[1]):\n",
    "            cell_color = 'orange' if array[i, j] == 1 else 'deepskyblue'  # Оранжевый для 1, голубой для -1\n",
    "            cell = plt.Rectangle((j, array.shape[0] - i - 1), 1, 1, facecolor=cell_color, edgecolor='black')  # Изменяем координаты и добавляем границы\n",
    "            ax.add_patch(cell)\n",
    "    \n",
    "    # добавляем линии сетки\n",
    "    ax.grid(color='grey', linestyle='-', linewidth=0.1)\n",
    "    \n",
    "    # устанавливаем пределы осей и отключаем деления на осях\n",
    "    ax.set_xlim(0, array.shape[1])\n",
    "    ax.set_ylim(0, array.shape[0])\n",
    "    ax.set_aspect('equal')\n",
    "    ax.axis('off')\n",
    "    \n",
    "    # показываем изображение\n",
    "    plt.show()\n",
    "\n",
    "\n",
    "# функция преобразования массива в одномерный вектор:\n",
    "def flatten_array(array):\n",
    "    flattened_list = []\n",
    "    for i in range(array.shape[0]):\n",
    "        for j in range(array.shape[1]):\n",
    "            flattened_list.append(array[i, j])\n",
    "    return flattened_list\n",
    "\n",
    "\n",
    "# функция для создания матрицы весов:\n",
    "def wei_matrix(samples_1d):\n",
    "    matrix = np.zeros((64, 4))\n",
    "    for i in range(64):\n",
    "        for k in range(4):\n",
    "            matrix[i, k] = samples_1d[k][i] / 2\n",
    "    return matrix\n",
    "\n",
    "\n",
    "# функция для сравнения двух списков\n",
    "def compare_lists(list1, list2, eps):\n",
    "    if len(list1) != len(list2):\n",
    "        return False\n",
    "\n",
    "    for i in range(len(list1)):\n",
    "        if abs(list1[i] - list2[i]) > eps:\n",
    "            return False\n",
    "\n",
    "    return True\n",
    "\n",
    "\n",
    "# функция вычисления значений нейронов 1-го слоя y1\n",
    "def get_y1(input_1d, weis):\n",
    "    y1 = [0.0, 0.0, 0.0, 0.0]\n",
    "    for j in range(4):\n",
    "        elem = 32 \n",
    "        for i in range(64):\n",
    "            elem += weis[i, j] * input_1d[i]\n",
    "        y1[j] = elem\n",
    "    return y1\n",
    "\n",
    "\n",
    "# функция вычисления новых значений нейронов 2-го слоя\n",
    "def renew_y2(y2_old, acc):\n",
    "    y2_new = [0.0, 0.0, 0.0, 0.0]\n",
    "    for j in range(4):\n",
    "        elem = y2_old[j]\n",
    "        for k in range(4):\n",
    "            if j != k:\n",
    "                elem += (-1)*acc*y2_old[k]\n",
    "        y2_new[j] = max(elem, 0) \n",
    "    return y2_new\n",
    "\n",
    "\n",
    "# функция для создания выходного значения\n",
    "def get_res(input_1d, weis, eps, acc):\n",
    "    y2_old = [0.0, 0.0, 0.0, 0.0]\n",
    "    y1 = get_y1(input_1d, weis)\n",
    "    y2_old = y1\n",
    "    i = 2\n",
    "    while True:            \n",
    "        y2_new = renew_y2(y2_old, acc)\n",
    "        if compare_lists(y1, y2_new, eps) or i == 7000:\n",
    "            return y1, y2_new, i\n",
    "        else:\n",
    "            i += 1\n",
    "            y2_old = y2_new\n",
    "\n",
    "\n",
    "# функция для нахождения индекса максимального элемента\n",
    "def find_max(lst):\n",
    "    max_index = 0\n",
    "    for i in range(len(lst)):\n",
    "        if lst[i] > lst[max_index]:\n",
    "            max_index = i\n",
    "    return max_index"
   ]
  },
  {
   "cell_type": "code",
   "execution_count": 9,
   "metadata": {},
   "outputs": [
    {
     "name": "stdout",
     "output_type": "stream",
     "text": [
      "Образцы в визуале:\n",
      "Образец 1\n"
     ]
    },
    {
     "data": {
      "image/png": "[encoded data removed]",
      "text/plain": [
       "<Figure size 300x300 with 1 Axes>"
      ]
     },
     "metadata": {},
     "output_type": "display_data"
    },
    {
     "name": "stdout",
     "output_type": "stream",
     "text": [
      "Образец 2\n"
     ]
    },
    {
     "data": {
      "image/png": "[encoded data removed]",
      "text/plain": [
       "<Figure size 300x300 with 1 Axes>"
      ]
     },
     "metadata": {},
     "output_type": "display_data"
    },
    {
     "name": "stdout",
     "output_type": "stream",
     "text": [
      "Образец 3\n"
     ]
    },
    {
     "data": {
      "image/png": "[encoded data removed]",
      "text/plain": [
       "<Figure size 300x300 with 1 Axes>"
      ]
     },
     "metadata": {},
     "output_type": "display_data"
    },
    {
     "name": "stdout",
     "output_type": "stream",
     "text": [
      "Образец 4\n"
     ]
    },
    {
     "data": {
      "image/png": "[encoded data removed]",
      "text/plain": [
       "<Figure size 300x300 with 1 Axes>"
      ]
     },
     "metadata": {},
     "output_type": "display_data"
    },
    {
     "name": "stdout",
     "output_type": "stream",
     "text": [
      "Образцы в виде одномерных векторов:\n",
      "Образец 1\n",
      "[1, -1, -1, -1, -1, -1, -1, 1, 1, 1, -1, -1, -1, -1, 1, 1, 1, 1, 1, -1, -1, 1, 1, 1, 1, 1, 1, 1, 1, 1, 1, 1, 1, 1, 1, 1, 1, 1, 1, 1, 1, 1, 1, -1, -1, 1, 1, 1, 1, 1, -1, -1, -1, -1, 1, 1, 1, -1, -1, -1, -1, -1, -1, 1]\n",
      "Образец 2\n",
      "[-1, -1, -1, -1, -1, 1, -1, -1, -1, -1, -1, -1, -1, 1, -1, 1, 1, -1, -1, -1, -1, 1, 1, 1, -1, 1, 1, 1, 1, 1, 1, 1, -1, 1, 1, 1, 1, -1, -1, -1, -1, 1, 1, 1, 1, -1, -1, -1, -1, 1, -1, -1, 1, -1, -1, -1, -1, 1, -1, -1, 1, -1, -1, -1]\n",
      "Образец 3\n",
      "[-1, -1, -1, 1, 1, -1, -1, -1, -1, -1, -1, 1, 1, -1, -1, -1, 1, 1, 1, 1, 1, 1, 1, 1, 1, -1, 1, 1, 1, 1, -1, 1, 1, -1, 1, 1, 1, 1, -1, 1, -1, -1, 1, 1, 1, 1, -1, -1, -1, -1, 1, -1, -1, 1, -1, -1, -1, 1, 1, -1, -1, 1, 1, -1]\n",
      "Образец 4\n",
      "[-1, -1, 1, -1, -1, 1, -1, -1, -1, -1, 1, -1, -1, 1, -1, -1, -1, -1, 1, -1, -1, 1, -1, -1, -1, -1, -1, 1, 1, 1, -1, -1, -1, -1, -1, -1, -1, 1, -1, -1, -1, -1, -1, -1, -1, 1, -1, -1, -1, -1, 1, -1, -1, 1, -1, -1, -1, -1, -1, 1, 1, -1, -1, -1]\n"
     ]
    }
   ],
   "source": [
    "# загрузка образцов из эксель файла с помощью библиотеки pandas\n",
    "data_frame = pd.read_excel('samples.xlsx', header=None)\n",
    "\n",
    "# задание значений точности для вычисления значений нейронов 2-го слоя (eps) и порога останова (acc)\n",
    "eps = 0.001\n",
    "acc = 0.25\n",
    "\n",
    "# преобразование данных в двумерный массив NumPy\n",
    "samples_array = np.array(data_frame)\n",
    "\n",
    "side = samples_array.shape[1] # определение размера квадратного массива\n",
    "samples = list()\n",
    "for i in range(4):\n",
    "    samples += [samples_array[side*i:side*(i+1), :]]\n",
    "print(\"Образцы в визуале:\")\n",
    "for i in range(4):\n",
    "    print(f\"Образец {i+1}\")\n",
    "    visual_array(samples_array[side*i:side*(i+1), :])\n",
    "\n",
    "# преобразование образцов в одномерный список\n",
    "samples_1d = []\n",
    "for i in range(4):\n",
    "    samples_1d += [flatten_array(samples[i])]\n",
    "\n",
    "print(\"Образцы в виде одномерных векторов:\")\n",
    "for i in range(4):\n",
    "    print(f\"Образец {i+1}\", samples_1d[i], sep='\\n')\n"
   ]
  },
  {
   "cell_type": "code",
   "execution_count": 10,
   "metadata": {},
   "outputs": [
    {
     "name": "stdout",
     "output_type": "stream",
     "text": [
      "Входное значение:\n"
     ]
    },
    {
     "data": {
      "image/png": "[encoded data removed]",
      "text/plain": [
       "<Figure size 300x300 with 1 Axes>"
      ]
     },
     "metadata": {},
     "output_type": "display_data"
    },
    {
     "name": "stdout",
     "output_type": "stream",
     "text": [
      "Входной вектор:\n",
      "[1, -1, -1, -1, -1, -1, -1, 1, 1, -1, -1, -1, -1, -1, -1, 1, 1, 1, 1, -1, -1, 1, 1, 1, 1, 1, 1, 1, 1, 1, 1, 1, 1, 1, 1, 1, 1, -1, 1, 1, 1, 1, 1, -1, -1, -1, 1, 1, 1, 1, -1, -1, -1, -1, -1, 1, 1, 1, -1, -1, -1, -1, -1, 1]\n"
     ]
    }
   ],
   "source": [
    "# загрузка ввода из эксель файла с помощью библиотеки pandas\n",
    "data_frame = pd.read_excel('input.xlsx', header=None)\n",
    "\n",
    "# преобразование данных в двумерный массив NumPy\n",
    "input_array = np.array(data_frame)\n",
    "print(\"Входное значение:\")\n",
    "visual_array(input_array)\n",
    "input_1d = flatten_array(input_array)\n",
    "print(\"Входной вектор:\", input_1d, sep='\\n')"
   ]
  },
  {
   "cell_type": "code",
   "execution_count": 11,
   "metadata": {},
   "outputs": [],
   "source": [
    "# получение матрицы весов\n",
    "weis = wei_matrix(samples_1d)\n",
    "# print(weis.shape)\n",
    "T = 64 / 2\n",
    "eps = 0.2\n",
    "# print(weis)"
   ]
  },
  {
   "cell_type": "code",
   "execution_count": 12,
   "metadata": {},
   "outputs": [
    {
     "name": "stdout",
     "output_type": "stream",
     "text": [
      "[58.0, 42.0, 32.0, 23.0]\n",
      "[28.75, 0, 0, 0]\n",
      "Число итераций: 7000\n",
      "Входной образец принадлежит классу 1\n"
     ]
    }
   ],
   "source": [
    "# цикл с последовательным получением результатов и отслеживанием стабилизации результата\n",
    "res1, res2, i = get_res(input_1d, weis, eps, acc)\n",
    "print(res1, res2, f\"Число итераций: {i}\", f\"Входной образец принадлежит классу {find_max(res2) + 1}\", sep=\"\\n\")\n"
   ]
  }
 ],
 "metadata": {
  "kernelspec": {
   "display_name": "base",
   "language": "python",
   "name": "python3"
  },
  "language_info": {
   "codemirror_mode": {
    "name": "ipython",
    "version": 3
   },
   "file_extension": ".py",
   "mimetype": "text/x-python",
   "name": "python",
   "nbconvert_exporter": "python",
   "pygments_lexer": "ipython3",
   "version": "3.10.9"
  },
  "orig_nbformat": 4
 },
 "nbformat": 4,
 "nbformat_minor": 2
}
