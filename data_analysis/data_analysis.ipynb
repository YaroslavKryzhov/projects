{
  "cells": [
    {
      "cell_type": "code",
      "execution_count": 1,
      "metadata": {
        "id": "qpn1jR1A1rN7"
      },
      "outputs": [],
      "source": [
        "import pandas as pd\n",
        "import numpy as np"
      ]
    },
    {
      "cell_type": "code",
      "execution_count": 2,
      "metadata": {
        "id": "fH72SHAyMiH_"
      },
      "outputs": [],
      "source": [
        "pd.options.display.expand_frame_repr = False"
      ]
    },
    {
      "cell_type": "markdown",
      "metadata": {
        "id": "9FYPpdDBTi_B"
      },
      "source": [
        "1-2. Импортирование данных"
      ]
    },
    {
      "cell_type": "code",
      "execution_count": 3,
      "metadata": {
        "colab": {
          "base_uri": "https://localhost:8080/"
        },
        "id": "khNDiwQ9RCzW",
        "outputId": "d29306be-32e5-4a80-997e-09db5febc22a"
      },
      "outputs": [
        {
          "output_type": "stream",
          "name": "stdout",
          "text": [
            "    Mcg   Gvh   Alm   Mit  Erl  Pox   Vac   Nuc      Class\n",
            "0  0.58  0.61  0.47  0.13  0.5  0.0  0.48  0.22   negative\n",
            "1  0.43  0.67  0.48  0.27  0.5  0.0  0.53  0.22   negative\n",
            "2  0.64  0.62  0.49  0.15  0.5  0.0  0.53  0.22   negative\n",
            "3  0.58  0.44  0.57  0.13  0.5  0.0  0.54  0.22   positive\n",
            "4  0.42  0.44  0.48  0.54  0.5  0.0  0.48  0.22   negative\n"
          ]
        }
      ],
      "source": [
        "import pandas as pd\n",
        "df=pd.read_csv('yeast1.dat', skiprows=13, header=None)\n",
        "COLUMNS = ['Mcg', 'Gvh', 'Alm', 'Mit', 'Erl', 'Pox', 'Vac', 'Nuc', 'Class']\n",
        "df.columns = COLUMNS\n",
        "print(df.head())"
      ]
    },
    {
      "cell_type": "code",
      "execution_count": 4,
      "metadata": {
        "colab": {
          "base_uri": "https://localhost:8080/"
        },
        "id": "nIz053ibJoBE",
        "outputId": "11210143-81c2-44fa-e764-f4272f105b6a"
      },
      "outputs": [
        {
          "output_type": "stream",
          "name": "stdout",
          "text": [
            "       Mcg   Gvh   Alm   Mit  Erl  Pox   Vac   Nuc  Class\n",
            "0     0.58  0.61  0.47  0.13  0.5  0.0  0.48  0.22      0\n",
            "1     0.43  0.67  0.48  0.27  0.5  0.0  0.53  0.22      0\n",
            "2     0.64  0.62  0.49  0.15  0.5  0.0  0.53  0.22      0\n",
            "3     0.58  0.44  0.57  0.13  0.5  0.0  0.54  0.22      1\n",
            "4     0.42  0.44  0.48  0.54  0.5  0.0  0.48  0.22      0\n",
            "...    ...   ...   ...   ...  ...  ...   ...   ...    ...\n",
            "1479  0.81  0.62  0.43  0.17  0.5  0.0  0.53  0.22      0\n",
            "1480  0.47  0.43  0.61  0.40  0.5  0.0  0.48  0.47      1\n",
            "1481  0.67  0.57  0.36  0.19  0.5  0.0  0.56  0.22      0\n",
            "1482  0.43  0.40  0.60  0.16  0.5  0.0  0.53  0.39      1\n",
            "1483  0.65  0.54  0.54  0.13  0.5  0.0  0.53  0.22      0\n",
            "\n",
            "[1484 rows x 9 columns]\n"
          ]
        }
      ],
      "source": [
        "df['Class'] = df['Class'].replace([' negative', ' positive'], [0, 1])\n",
        "df['Class'] = df['Class'].astype('int32')\n",
        "print(df)"
      ]
    },
    {
      "cell_type": "code",
      "execution_count": 5,
      "metadata": {
        "colab": {
          "base_uri": "https://localhost:8080/"
        },
        "id": "kwL_kYLPRCjZ",
        "outputId": "4bcb1884-e147-490a-d425-575ed0982b7c"
      },
      "outputs": [
        {
          "output_type": "stream",
          "name": "stdout",
          "text": [
            "<class 'pandas.core.frame.DataFrame'>\n",
            "RangeIndex: 1484 entries, 0 to 1483\n",
            "Data columns (total 9 columns):\n",
            " #   Column  Non-Null Count  Dtype  \n",
            "---  ------  --------------  -----  \n",
            " 0   Mcg     1484 non-null   float64\n",
            " 1   Gvh     1484 non-null   float64\n",
            " 2   Alm     1484 non-null   float64\n",
            " 3   Mit     1484 non-null   float64\n",
            " 4   Erl     1484 non-null   float64\n",
            " 5   Pox     1484 non-null   float64\n",
            " 6   Vac     1484 non-null   float64\n",
            " 7   Nuc     1484 non-null   float64\n",
            " 8   Class   1484 non-null   int32  \n",
            "dtypes: float64(8), int32(1)\n",
            "memory usage: 98.7 KB\n"
          ]
        }
      ],
      "source": [
        "df.info()"
      ]
    },
    {
      "cell_type": "code",
      "execution_count": 6,
      "metadata": {
        "colab": {
          "base_uri": "https://localhost:8080/"
        },
        "id": "hKt73cwW9tz-",
        "outputId": "dd6cf615-cf08-4982-c3e9-832819636d74"
      },
      "outputs": [
        {
          "output_type": "stream",
          "name": "stdout",
          "text": [
            "               Mcg          Gvh          Alm          Mit          Erl          Pox          Vac          Nuc        Class\n",
            "count  1484.000000  1484.000000  1484.000000  1484.000000  1484.000000  1484.000000  1484.000000  1484.000000  1484.000000\n",
            "mean      0.500121     0.499933     0.500034     0.261186     0.504717     0.007500     0.499885     0.276199     0.289084\n",
            "std       0.137299     0.123924     0.086670     0.137098     0.048351     0.075683     0.057797     0.106491     0.453490\n",
            "min       0.110000     0.130000     0.210000     0.000000     0.500000     0.000000     0.000000     0.000000     0.000000\n",
            "25%       0.410000     0.420000     0.460000     0.170000     0.500000     0.000000     0.480000     0.220000     0.000000\n",
            "50%       0.490000     0.490000     0.510000     0.220000     0.500000     0.000000     0.510000     0.220000     0.000000\n",
            "75%       0.580000     0.570000     0.550000     0.320000     0.500000     0.000000     0.530000     0.300000     1.000000\n",
            "max       1.000000     1.000000     1.000000     1.000000     1.000000     0.830000     0.730000     1.000000     1.000000\n"
          ]
        }
      ],
      "source": [
        "print(df.describe())"
      ]
    },
    {
      "cell_type": "markdown",
      "metadata": {
        "id": "Dz_6pXFjTynJ"
      },
      "source": [
        "3. Стандартизация данных"
      ]
    },
    {
      "cell_type": "code",
      "execution_count": 7,
      "metadata": {
        "colab": {
          "base_uri": "https://localhost:8080/"
        },
        "id": "j2vldCc2RCcv",
        "outputId": "f14714d9-5c8e-450f-dd57-83d51d23af90"
      },
      "outputs": [
        {
          "output_type": "stream",
          "name": "stdout",
          "text": [
            "           Mcg       Gvh       Alm       Mit      Erl       Pox       Vac       Nuc  Class\n",
            "0     0.581981  0.888481 -0.346645 -0.957203 -0.09759 -0.099131 -0.344175 -0.527919      0\n",
            "1    -0.510891  1.372811 -0.231226  0.064312 -0.09759 -0.099131  0.521219 -0.527919      0\n",
            "2     1.019130  0.969203 -0.115808 -0.811272 -0.09759 -0.099131  0.521219 -0.527919      0\n",
            "3     0.581981 -0.483786  0.807542 -0.957203 -0.09759 -0.099131  0.694298 -0.527919      1\n",
            "4    -0.583749 -0.483786 -0.231226  2.034375 -0.09759 -0.099131 -0.344175 -0.527919      0\n",
            "...        ...       ...       ...       ...      ...       ...       ...       ...    ...\n",
            "1479  2.257718  0.969203 -0.808320 -0.665341 -0.09759 -0.099131  0.521219 -0.527919      0\n",
            "1480 -0.219458 -0.564507  1.269217  1.012861 -0.09759 -0.099131 -0.344175  1.820499      1\n",
            "1481  1.237705  0.565595 -1.616251 -0.519411 -0.09759 -0.099131  1.040456 -0.527919      0\n",
            "1482 -0.510891 -0.806672  1.153799 -0.738307 -0.09759 -0.099131  0.521219  1.069005      1\n",
            "1483  1.091988  0.323430  0.461286 -0.957203 -0.09759 -0.099131  0.521219 -0.527919      0\n",
            "\n",
            "[1484 rows x 9 columns]\n"
          ]
        }
      ],
      "source": [
        "x=df.drop('Class',axis=1)\n",
        "y=df['Class']\n",
        "\n",
        "from sklearn.preprocessing import StandardScaler\n",
        "sc=StandardScaler()\n",
        "x_scaled=sc.fit_transform(x)\n",
        "\n",
        "df[['Mcg', 'Gvh', 'Alm', 'Mit', 'Erl', 'Pox', 'Vac', 'Nuc']] = x_scaled\n",
        "print(df)"
      ]
    },
    {
      "cell_type": "code",
      "execution_count": 8,
      "metadata": {
        "colab": {
          "base_uri": "https://localhost:8080/"
        },
        "id": "PJLqwK_i-tuD",
        "outputId": "5f0a051a-95af-4ed8-dfd7-4d897b3eb907"
      },
      "outputs": [
        {
          "output_type": "stream",
          "name": "stdout",
          "text": [
            "                Mcg           Gvh           Alm           Mit           Erl           Pox           Vac           Nuc        Class\n",
            "count  1.484000e+03  1.484000e+03  1.484000e+03  1.484000e+03  1.484000e+03  1.484000e+03  1.484000e+03  1.484000e+03  1484.000000\n",
            "mean   2.657353e-16  4.788024e-17  1.675808e-17  9.576048e-17 -1.153914e-15  4.788024e-18  1.005485e-15  1.101245e-16     0.289084\n",
            "std    1.000337e+00  1.000337e+00  1.000337e+00  1.000337e+00  1.000337e+00  1.000337e+00  1.000337e+00  1.000337e+00     0.453490\n",
            "min   -2.842351e+00 -2.986155e+00 -3.347532e+00 -1.905752e+00 -9.759001e-02 -9.913140e-02 -8.651963e+00 -2.594527e+00     0.000000\n",
            "25%   -6.566069e-01 -6.452288e-01 -4.620638e-01 -6.653413e-01 -9.759001e-02 -9.913140e-02 -3.441751e-01 -5.279193e-01     0.000000\n",
            "50%   -7.374186e-02 -8.017765e-02  1.150299e-01 -3.005148e-01 -9.759001e-02 -9.913140e-02  1.750616e-01 -5.279193e-01     0.000000\n",
            "75%    5.819814e-01  5.655951e-01  5.767048e-01  4.291383e-01 -9.759001e-02 -9.913140e-02  5.212195e-01  2.235745e-01     1.000000\n",
            "max    3.642023e+00  4.036624e+00  5.770548e+00  5.390779e+00  1.024695e+01  1.087141e+01  3.982798e+00  6.799145e+00     1.000000\n"
          ]
        }
      ],
      "source": [
        "print(df.describe())"
      ]
    },
    {
      "cell_type": "markdown",
      "metadata": {
        "id": "VjrCo6R9T2qy"
      },
      "source": [
        "4. Разбиение на выборки: обучающая, тестовая и валидационная в\n",
        "соотношении 5 / 3 / 2"
      ]
    },
    {
      "cell_type": "code",
      "execution_count": 9,
      "metadata": {
        "colab": {
          "base_uri": "https://localhost:8080/"
        },
        "id": "B4Rx1plvAtLE",
        "outputId": "72aa2dad-8784-4332-ce59-c7402f5be48d"
      },
      "outputs": [
        {
          "output_type": "stream",
          "name": "stdout",
          "text": [
            "Train\t\t0.6994609164420486\n",
            "Test\t\t0.3005390835579515\n"
          ]
        }
      ],
      "source": [
        "from sklearn.model_selection import train_test_split\n",
        "data_train, data_test = train_test_split(df, test_size=0.3, stratify=df['Class'])\n",
        "\n",
        "\n",
        "# Проверка соотношения\n",
        "print(\"Train\", len(data_train)/len(df), sep='\\t'*2)\n",
        "print(\"Test\", len(data_test)/len(df), sep='\\t'*2)\n",
        "\n",
        "# x - все без Class\n",
        "# y - только Class\n",
        "\n",
        "x_train=data_train[COLUMNS[:-1]]\n",
        "y_train=data_train[COLUMNS[-1]]\n",
        "\n",
        "x_test=data_test[COLUMNS[:-1]]\n",
        "y_test=data_test[COLUMNS[-1]]"
      ]
    },
    {
      "cell_type": "code",
      "execution_count": 10,
      "metadata": {
        "colab": {
          "base_uri": "https://localhost:8080/"
        },
        "id": "_LCw84yiClr7",
        "outputId": "1ba0feee-d133-4762-f259-8cf3ab035bc5"
      },
      "outputs": [
        {
          "output_type": "stream",
          "name": "stdout",
          "text": [
            "Train\t\t0.49932614555256066\n",
            "Test\t\t0.3005390835579515\n",
            "Validation\t0.20013477088948786\n"
          ]
        }
      ],
      "source": [
        "data_temp=data_train.copy(deep=True)\n",
        "data_train, data_val = train_test_split(data_temp, test_size=0.2/0.7, stratify=data_temp['Class'])\n",
        "# data_test, data_val = train_test_split(data_test_val, test_size=0.4, stratify=data_test_val['Quality'])\n",
        "\n",
        "# Проверка соотношения\n",
        "print(\"Train\", len(data_train)/len(df), sep='\\t'*2)\n",
        "print(\"Test\", len(data_test)/len(df), sep='\\t'*2)\n",
        "print(\"Validation\", len(data_val)/len(df), sep='\\t')\n",
        "\n",
        "# x - все без Class\n",
        "# y - только Class\n",
        "\n",
        "x_train=data_train[COLUMNS[:-1]]\n",
        "y_train=data_train[COLUMNS[-1]]\n",
        "\n",
        "x_val=data_val[COLUMNS[:-1]]\n",
        "y_val=data_val[COLUMNS[-1]]"
      ]
    },
    {
      "cell_type": "markdown",
      "metadata": {
        "id": "wOoUgahrUdkb"
      },
      "source": [
        "5. Построение деревьев решений и выбор лучшего"
      ]
    },
    {
      "cell_type": "code",
      "execution_count": 11,
      "metadata": {
        "colab": {
          "base_uri": "https://localhost:8080/"
        },
        "id": "Ao4PesflSC9w",
        "outputId": "648a210b-639c-4f32-f632-23ec331f52d7"
      },
      "outputs": [
        {
          "output_type": "stream",
          "name": "stdout",
          "text": [
            "RocAuc: \n",
            "gini: alpha = 0.005, RocAuc = 1.0\n",
            "entropy: alpha = 0.005, RocAuc = 1.0\n"
          ]
        }
      ],
      "source": [
        "from sklearn.tree import DecisionTreeClassifier\n",
        "from sklearn.metrics import classification_report\n",
        "from sklearn.metrics import roc_auc_score\n",
        "from sklearn import tree\n",
        "from sklearn.metrics import accuracy_score\n",
        "from sklearn.metrics import recall_score\n",
        "from sklearn.metrics import precision_score\n",
        "alph = [0.005, 0.01, 0.015, 0.02, 0.025, 0.03, 0.035, 0.2, 0.8]\n",
        "best1=best2=0\n",
        "ba1=ba2=0\n",
        "for a in alph:\n",
        "  tree_cls1=DecisionTreeClassifier(ccp_alpha=a)# default criterion='gini'\n",
        "  tree_cls2=DecisionTreeClassifier(ccp_alpha=a, criterion='entropy')\n",
        "  tree_cls1.fit(data_train,y_train)\n",
        "  tree_cls2.fit(data_train,y_train)\n",
        "\n",
        "  rocauc1=roc_auc_score(y_test, tree_cls1.predict(data_test), average='macro')\n",
        "  rocauc2=roc_auc_score(y_test, tree_cls2.predict(data_test), average='macro')\n",
        "\n",
        "  if rocauc1>best1:\n",
        "    ba1=a\n",
        "    best1=rocauc1\n",
        "  if rocauc2>best2:\n",
        "    ba2=a\n",
        "    best2=rocauc2\n",
        "\n",
        "print('RocAuc: ')\n",
        "print(\"gini: alpha = \", ba1, \", RocAuc = \", best1, sep='')\n",
        "print(\"entropy: alpha = \", ba2, \", RocAuc = \", best2, sep='')"
      ]
    },
    {
      "cell_type": "markdown",
      "metadata": {
        "id": "xNeEN1y9Uoij"
      },
      "source": [
        "6. Построение SVM классификатора"
      ]
    },
    {
      "cell_type": "code",
      "execution_count": 12,
      "metadata": {
        "colab": {
          "base_uri": "https://localhost:8080/"
        },
        "id": "_C_lOEu3Uwmy",
        "outputId": "903bf86f-c5eb-4742-c9df-756ff9df5465"
      },
      "outputs": [
        {
          "output_type": "stream",
          "name": "stdout",
          "text": [
            "krl      gamma  coef0  degree  C     accuracy              recall                precision             roc_auc           \n",
            "linear   scale      0       2  0.01  0.728699551569506720  0.549397207346000505  0.699447077409162676  0.788019954515442711\n",
            "linear   scale      0       2  0.10  0.733183856502242159  0.566343873034504730  0.693675042832667010  0.790110776905582957\n",
            "linear   scale      0       3  0.01  0.728699551569506720  0.549397207346000505  0.699447077409162676  0.788019954515442711\n",
            "linear   scale      0       3  0.10  0.733183856502242159  0.566343873034504730  0.693675042832667010  0.790135230968625479\n",
            "linear   scale      1       2  0.01  0.728699551569506720  0.549397207346000505  0.699447077409162676  0.788056635610006606\n",
            "linear   scale      1       2  0.10  0.733183856502242159  0.566343873034504730  0.693675042832667010  0.790061868779497800\n",
            "linear   scale      1       3  0.01  0.728699551569506720  0.549397207346000505  0.699447077409162676  0.788044408578485345\n",
            "linear   scale      1       3  0.10  0.733183856502242159  0.566343873034504730  0.693675042832667010  0.790110776905582846\n",
            "linear   auto       0       2  0.01  0.728699551569506720  0.549397207346000505  0.699447077409162676  0.788019954515442711\n",
            "linear   auto       0       2  0.10  0.733183856502242159  0.566343873034504730  0.693675042832667010  0.790110776905582957\n",
            "linear   auto       0       3  0.01  0.728699551569506720  0.549397207346000505  0.699447077409162676  0.788044408578485345\n",
            "linear   auto       0       3  0.10  0.733183856502242159  0.566343873034504730  0.693675042832667010  0.790086322842540323\n",
            "linear   auto       1       2  0.01  0.728699551569506720  0.549397207346000505  0.699447077409162676  0.788019954515442711\n",
            "linear   auto       1       2  0.10  0.733183856502242159  0.566343873034504730  0.693675042832667010  0.790061868779497800\n",
            "linear   auto       1       3  0.01  0.728699551569506720  0.549397207346000505  0.699447077409162676  0.788019954515442711\n",
            "linear   auto       1       3  0.10  0.733183856502242159  0.566343873034504730  0.693675042832667010  0.790110776905582846\n",
            "poly     scale      0       2  0.01  0.715246636771300404  0.507751937984496138  0.856981981981981944  0.593231115349815319\n",
            "poly     scale      0       2  0.10  0.719730941704035843  0.522399921746998230  0.710091743119266039  0.609859878218765972\n",
            "poly     scale      0       3  0.01  0.715246636771300404  0.507751937984496138  0.856981981981981944  0.785061012887291132\n",
            "poly     scale      0       3  0.10  0.717488789237668123  0.518523952754750161  0.692601067887109068  0.772968478712738105\n",
            "poly     scale      1       2  0.01  0.715246636771300404  0.512349301836500182  0.691287878787878785  0.780732643728755504\n",
            "poly     scale      1       2  0.10  0.735426008968609879  0.565622478174748755  0.708589195491643897  0.775132663292006030\n",
            "poly     scale      1       3  0.01  0.721973094170403562  0.530873254591250343  0.695282289249806618  0.780011248868999640\n",
            "poly     scale      1       3  0.10  0.742152466367713037  0.597938522485510937  0.695480281140179679  0.772675029956227166\n",
            "poly     auto       0       2  0.01  0.715246636771300404  0.507751937984496138  0.856981981981981944  0.593769104736751929\n",
            "poly     auto       0       2  0.10  0.719730941704035843  0.522399921746998230  0.710091743119266039  0.610031056660063964\n",
            "poly     auto       0       3  0.01  0.715246636771300404  0.507751937984496138  0.856981981981981944  0.785146602107940406\n",
            "poly     auto       0       3  0.10  0.719730941704035843  0.520101239820996319  0.734589041095890405  0.774875895630058986\n",
            "poly     auto       1       2  0.01  0.717488789237668123  0.513926588902746229  0.758276643990929755  0.780647054508106564\n",
            "poly     auto       1       2  0.10  0.735426008968609879  0.565622478174748755  0.708589195491643897  0.774998165945271822\n",
            "poly     auto       1       3  0.01  0.721973094170403562  0.530873254591250343  0.695282289249806618  0.779717800112488701\n",
            "poly     auto       1       3  0.10  0.742152466367713037  0.597938522485510937  0.695480281140179679  0.772283764947546025\n",
            "rbf      scale      0       2  0.01  0.710762331838565076  0.500000000000000000  0.355381165919282538  0.772503851514929174\n",
            "rbf      scale      0       2  0.10  0.733183856502242159  0.557149145330496642  0.714010989010989028  0.771305602425843118\n",
            "rbf      scale      0       3  0.01  0.710762331838565076  0.500000000000000000  0.355381165919282538  0.772516078546450435\n",
            "rbf      scale      0       3  0.10  0.733183856502242159  0.557149145330496642  0.714010989010989028  0.771317829457364379\n",
            "rbf      scale      1       2  0.01  0.710762331838565076  0.500000000000000000  0.355381165919282538  0.772479397451886540\n",
            "rbf      scale      1       2  0.10  0.733183856502242159  0.557149145330496642  0.714010989010989028  0.771330056488885640\n",
            "rbf      scale      1       3  0.01  0.710762331838565076  0.500000000000000000  0.355381165919282538  0.772479397451886540\n",
            "rbf      scale      1       3  0.10  0.733183856502242159  0.557149145330496642  0.714010989010989028  0.771330056488885640\n",
            "rbf      auto       0       2  0.01  0.710762331838565076  0.500000000000000000  0.355381165919282538  0.771745775560609415\n",
            "rbf      auto       0       2  0.10  0.730941704035874440  0.553273176338248573  0.706983372921615283  0.771794683686694460\n",
            "rbf      auto       0       3  0.01  0.710762331838565076  0.500000000000000000  0.355381165919282538  0.771745775560609415\n",
            "rbf      auto       0       3  0.10  0.730941704035874440  0.553273176338248573  0.706983372921615283  0.771794683686694460\n",
            "rbf      auto       1       2  0.01  0.710762331838565076  0.500000000000000000  0.355381165919282538  0.771733548529088154\n",
            "rbf      auto       1       2  0.10  0.730941704035874440  0.553273176338248573  0.706983372921615283  0.771770229623651827\n",
            "rbf      auto       1       3  0.01  0.710762331838565076  0.500000000000000000  0.355381165919282538  0.771745775560609415\n",
            "rbf      auto       1       3  0.10  0.730941704035874440  0.553273176338248573  0.706983372921615283  0.771794683686694460\n",
            "sigmoid  scale      0       2  0.01  0.710762331838565076  0.500000000000000000  0.355381165919282538  0.786271489007898672\n",
            "sigmoid  scale      0       2  0.10  0.737668161434977598  0.583290538723008845  0.692559927634554429  0.787151835277431378\n",
            "sigmoid  scale      0       3  0.01  0.710762331838565076  0.500000000000000000  0.355381165919282538  0.786271489007898672\n",
            "sigmoid  scale      0       3  0.10  0.737668161434977598  0.583290538723008845  0.692559927634554429  0.787066246056782437\n",
            "sigmoid  scale      1       2  0.01  0.710762331838565076  0.500000000000000000  0.355381165919282538  0.743452424620350660\n",
            "sigmoid  scale      1       2  0.10  0.701793721973094198  0.493690851735015757  0.354072398190045268  0.741483872545423472\n",
            "sigmoid  scale      1       3  0.01  0.710762331838565076  0.500000000000000000  0.355381165919282538  0.743452424620350660\n",
            "sigmoid  scale      1       3  0.10  0.701793721973094198  0.493690851735015757  0.354072398190045268  0.741447191450859577\n",
            "sigmoid  auto       0       2  0.01  0.710762331838565076  0.500000000000000000  0.355381165919282538  0.786638299953537290\n",
            "sigmoid  auto       0       2  0.10  0.737668161434977598  0.583290538723008845  0.692559927634554429  0.787237424498080318\n",
            "sigmoid  auto       0       3  0.01  0.710762331838565076  0.500000000000000000  0.355381165919282538  0.786687208079622446\n",
            "sigmoid  auto       0       3  0.10  0.737668161434977598  0.583290538723008845  0.692559927634554429  0.787237424498080318\n",
            "sigmoid  auto       1       2  0.01  0.710762331838565076  0.500000000000000000  0.355381165919282538  0.744149365417064113\n",
            "sigmoid  auto       1       2  0.10  0.701793721973094198  0.493690851735015757  0.354072398190045268  0.745604382168097324\n",
            "sigmoid  auto       1       3  0.01  0.710762331838565076  0.500000000000000000  0.355381165919282538  0.744259408700755687\n",
            "sigmoid  auto       1       3  0.10  0.701793721973094198  0.493690851735015757  0.354072398190045268  0.745751106546352682\n",
            "Лучшее дерево для каждой метрики в отдельности:\n",
            "accuracy ['poly', 'scale', 1, 3, 0.1] 0.742152466367713\n",
            "recall ['poly', 'scale', 1, 3, 0.1] 0.5979385224855109\n",
            "precision ['poly', 'scale', 0, 2, 0.01] 0.8569819819819819\n",
            "roc_auc ['linear', 'scale', 0, 3, 0.1] 0.7901352309686255\n",
            "Лучшее дерево:\n",
            "Best\n",
            " ['poly', 'scale', 1, 3, 0.1] 0.742152466367713\n"
          ]
        }
      ],
      "source": [
        "from sklearn import svm\n",
        "# gammas = ['scale', 'auto', 1, 10, 0.1, 20, 0.01]\n",
        "# coef0s = [0, 1, 2, 5, 10, 0.1, 0.01]\n",
        "# degrees = [2, 3, 4, 5]\n",
        "# Cs = [0.001, 0.01, 0.1, 1, 0.5, 1, 2, 10, 20]\n",
        "\n",
        "krls = ['linear', 'poly', 'rbf', 'sigmoid']\n",
        "gammas = ['scale', 'auto']\n",
        "coef0s = [0, 1]\n",
        "degrees = [2, 3]\n",
        "Cs = [0.01, 0.1]\n",
        "\n",
        "best=[0]*4 # Лучшие значения метрик\n",
        "param_tree=[None]*4 # Лучшие параметры svm (список)\n",
        "svms=[None]*4 # Лучший классификатор (сам) объект\n",
        "method = [\"accuracy\", \"recall\", \"precision\", \"roc_auc\"] # Список метрик\n",
        "\n",
        "print(\"{:6}   {:5}  {:5}  {:6}  {:4}  {:18}    {:18}    {:18}    {:18}\".format(\"krl\", \"gamma\", \"coef0\", \"degree\", \"C\", \"accuracy\", \"recall\", \"precision\", \"roc_auc\"))\n",
        "\n",
        "for krl in krls:\n",
        "  for gamma in gammas:\n",
        "    for coef0 in coef0s:\n",
        "      for degree in degrees:\n",
        "        for C in Cs:\n",
        "          scores = []\n",
        "\n",
        "          clf= svm.SVC(kernel = krl, gamma = gamma, coef0 = coef0, degree = degree, C=C, probability=True)\n",
        "          clf.fit(x_train, y_train)\n",
        "\n",
        "          ac = accuracy_score(y_test, clf.predict(x_test))\n",
        "          scores.append(ac)\n",
        "          rc = recall_score(y_test, clf.predict(x_test), average='macro')\n",
        "          scores.append(rc)\n",
        "          pc = precision_score(y_test, clf.predict(x_test), average='macro', zero_division=0)\n",
        "          scores.append(pc)\n",
        "\n",
        "          rocauc = roc_auc_score(y_test, clf.predict_proba(x_test)[:, 1], average='macro', multi_class='ovo')\n",
        "\n",
        "          scores.append(rocauc)\n",
        "\n",
        "          # print(krl, gamma, coef0, degree, C, ac, rc, pc, rocauc, sep='\\t' )\n",
        "          print(\"{:7}  {:5}  {:5}  {:6}  {:4.2f}  {:18.18f}  {:18.18f}  {:18.18f}  {:18.18f}\".format(krl, gamma, coef0, degree, C, ac, rc, pc, rocauc))\n",
        "\n",
        "          # Запоминается лучшее дерево для каждой метрики в отдельность\n",
        "          for i in range(4):\n",
        "            if scores[i]>best[i]:\n",
        "              best[i]=scores[i]\n",
        "              param_tree[i]=[krl, gamma, coef0, degree, C]\n",
        "              svms[i]=clf\n",
        "\n",
        "# Печатается лучшее дерево для каждой метрики в отдельность\n",
        "print(\"Лучшее дерево для каждой метрики в отдельности:\")\n",
        "for i in range(4):\n",
        "  print(method[i], param_tree[i], best[i])\n",
        "\n",
        "# Чем больше максимальных метрик у дерева, тем лучше\n",
        "total=[0]*4\n",
        "for i in range(4-1):\n",
        "  for j in range(i+1,4):\n",
        "    if param_tree[i] == param_tree[j]:\n",
        "      total[i]+=1\n",
        "# print(total)\n",
        "max=0\n",
        "for i in range(4):\n",
        "  if total[i]>max:\n",
        "    max=i\n",
        "print(\"Лучшее дерево:\")\n",
        "print(\"Best\\n\", param_tree[max], best[max])\n",
        "\n",
        "# Запоминаем лучшее из лучших\n",
        "best_svm=svms[max]\n"
      ]
    },
    {
      "cell_type": "markdown",
      "metadata": {
        "id": "odI3ApP-LvxZ"
      },
      "source": [
        "7. Построение Random Forest-классификатора и вывод параметров лучшей классификации"
      ]
    },
    {
      "cell_type": "code",
      "execution_count": 13,
      "metadata": {
        "colab": {
          "base_uri": "https://localhost:8080/"
        },
        "id": "GtJOnTjxUvx9",
        "outputId": "56e99d40-573b-45e3-a489-2cbad53cc03f"
      },
      "outputs": [
        {
          "output_type": "execute_result",
          "data": {
            "text/plain": [
              "[0.6889809991930159, 800, 6, 'gini']"
            ]
          },
          "metadata": {},
          "execution_count": 13
        }
      ],
      "source": [
        "from sklearn.ensemble import RandomForestClassifier\n",
        "crit = ['gini', 'entropy']\n",
        "features = [1, 2, 3, 4, 5, 6, 7, 8]\n",
        "estimators = [100, 200, 300, 400, 500, 600, 700, 800, 900, 1000]\n",
        "best=[0]\n",
        "for c in crit:\n",
        "  for f in features:\n",
        "    for e in estimators:\n",
        "      clf2 = RandomForestClassifier(n_estimators= e, max_features= f,\n",
        "                                    criterion = c)\n",
        "      clf2.fit(x_train, y_train)\n",
        "\n",
        "      rocauc=roc_auc_score(y_test, clf2.predict(x_test),average='macro')\n",
        "\n",
        "      if rocauc>best[0]:\n",
        "        best = [rocauc, e, f, c]\n",
        "best"
      ]
    },
    {
      "cell_type": "markdown",
      "metadata": {
        "id": "9cWYdN86Za51"
      },
      "source": [
        "8. Обогащение выборки и повторение шагов 5, 6, 7 с целью сравнения с классификаторами, полученными ранее"
      ]
    },
    {
      "cell_type": "code",
      "execution_count": 14,
      "metadata": {
        "id": "Zfw77NLl-KHI"
      },
      "outputs": [],
      "source": [
        "from imblearn.over_sampling import BorderlineSMOTE, SMOTE\n",
        "sm = SMOTE()\n",
        "x_res, y_res = sm.fit_resample(x, y)"
      ]
    },
    {
      "cell_type": "code",
      "execution_count": 15,
      "metadata": {
        "colab": {
          "base_uri": "https://localhost:8080/"
        },
        "id": "ygEdoTK4lRgw",
        "outputId": "6986eabd-0b4b-4842-a8fa-843f4b7dacff"
      },
      "outputs": [
        {
          "output_type": "stream",
          "name": "stdout",
          "text": [
            "Обучающая: 0.5 \n",
            " Тестовая: 0.3 \n",
            " Валидационная: 0.2\n"
          ]
        }
      ],
      "source": [
        "x_train2,x_test2,y_train2,y_test2=train_test_split(x_res,y_res,train_size=0.5)\n",
        "x_test2, x_valid2,y_test2,y_valid2=train_test_split(x_train2,y_train2,train_size=0.6)\n",
        "print(\"Обучающая:\", len(x_train2)/len(x_res), \"\\n\", \"Тестовая:\", len(x_test2)/len(x_res), \"\\n\", \"Валидационная:\", len(x_valid2)/len(x_res))"
      ]
    },
    {
      "cell_type": "code",
      "execution_count": 16,
      "metadata": {
        "id": "hFZobwgzmCdy"
      },
      "outputs": [],
      "source": [
        "from sklearn.tree import DecisionTreeClassifier\n",
        "from sklearn.metrics import classification_report\n",
        "from sklearn.metrics import roc_auc_score\n",
        "alph = [0.005, 0.01, 0.015, 0.02, 0.025, 0.03, 0.035, 0.2, 0.8]\n",
        "best7=best8=0\n",
        "ba7=ba8=0\n",
        "for a in alph:\n",
        "  tree_cls1=DecisionTreeClassifier(ccp_alpha=a)# default criterion='gini'\n",
        "  tree_cls2=DecisionTreeClassifier(ccp_alpha=a, criterion='entropy')\n",
        "  tree_cls1.fit(x_train,y_train)\n",
        "  tree_cls2.fit(x_train,y_train)\n",
        "\n",
        "  rocauc1=roc_auc_score(y_test, tree_cls1.predict(x_test), average='macro')\n",
        "  rocauc2=roc_auc_score(y_test, tree_cls2.predict(x_test), average='macro')\n",
        "\n",
        "  if rocauc1>best7:\n",
        "    ba7=a\n",
        "    best7=rocauc1\n",
        "  if rocauc2>best8:\n",
        "    ba8=a\n",
        "    best8=rocauc2"
      ]
    },
    {
      "cell_type": "code",
      "execution_count": 17,
      "metadata": {
        "colab": {
          "base_uri": "https://localhost:8080/"
        },
        "id": "Wl6kc5cGmEI3",
        "outputId": "8e7a57d5-586a-45df-a2c3-518dbd9296b4"
      },
      "outputs": [
        {
          "output_type": "stream",
          "name": "stdout",
          "text": [
            "RocAuc: \n",
            "gini: alpha = 0.005, RocAuc = 0.6586946421147873\n",
            "entropy: alpha = 0.025, RocAuc = 0.6826351698334677\n"
          ]
        }
      ],
      "source": [
        "print('RocAuc: ')\n",
        "print(\"gini: alpha = \", ba7, \", RocAuc = \", best7, sep='')\n",
        "print(\"entropy: alpha = \", ba8, \", RocAuc = \", best8, sep='')"
      ]
    },
    {
      "cell_type": "code",
      "execution_count": 18,
      "metadata": {
        "colab": {
          "base_uri": "https://localhost:8080/"
        },
        "id": "O1OnW-wkmJ8t",
        "outputId": "fc04e417-a020-496b-9478-4efb824b61bb"
      },
      "outputs": [
        {
          "output_type": "stream",
          "name": "stdout",
          "text": [
            "linear [0.5709412368865087, 'scale', 0, 2, 0.01]\n",
            "linear [0.5709412368865087, 'scale', 0, 2, 0.01]\n",
            "poly [0.6667155747927518, 'scale', 1, 5, 0.01]\n",
            "poly [0.6667155747927518, 'scale', 1, 5, 0.01]\n",
            "rbf [0.6374196072677475, 'scale', 0, 2, 0.01]\n",
            "rbf [0.6374196072677475, 'scale', 0, 2, 0.01]\n",
            "sigmoid [0.604883476389602, 'scale', 0, 2, 0.01]\n",
            "sigmoid [0.6097987430611596, 'auto', 0, 2, 0.01]\n"
          ]
        }
      ],
      "source": [
        "from sklearn import svm\n",
        "gammas = ['scale', 'auto']\n",
        "coefs = [0, 1, 2, 0.1]\n",
        "degrees = [2, 3, 4, 5]\n",
        "Cs = [0.01, 0.1, 1, 10]\n",
        "\n",
        "for krl in ['linear', 'poly', 'rbf', 'sigmoid']:\n",
        "  best4=[0]\n",
        "  for gamma in gammas:\n",
        "    for coef0 in coef0s:\n",
        "      for degree in degrees:\n",
        "        for C in Cs:\n",
        "          clf= svm.SVC(kernel = krl, gamma = gamma, coef0 = coef0, degree = degree)\n",
        "          clf.fit(x_train, y_train)\n",
        "\n",
        "          rocauc=roc_auc_score(y_test, clf.predict(x_test),average='macro')\n",
        "\n",
        "          if rocauc>best4[0]:\n",
        "            best4 = [rocauc, gamma, coef0, degree, C]\n",
        "\n",
        "    print(krl, best4)"
      ]
    },
    {
      "cell_type": "code",
      "execution_count": 19,
      "metadata": {
        "colab": {
          "base_uri": "https://localhost:8080/",
          "height": 66,
          "referenced_widgets": [
            "94f301136c6443a7a6bcb0a1810bd80c",
            "9220e323e5f74026911f0630c61a7bea",
            "f96e6f50a7544de28e41b43cd163ab06"
          ]
        },
        "id": "HzWrgP-QmP5I",
        "outputId": "cdd84a11-6607-4633-f908-480e8c5fa827"
      },
      "outputs": [
        {
          "output_type": "display_data",
          "data": {
            "text/plain": [
              "IntProgress(value=0, max=160)"
            ],
            "application/vnd.jupyter.widget-view+json": {
              "version_major": 2,
              "version_minor": 0,
              "model_id": "94f301136c6443a7a6bcb0a1810bd80c"
            }
          },
          "metadata": {}
        },
        {
          "output_type": "execute_result",
          "data": {
            "text/plain": [
              "[0.687538209473504, 300, 4, 'entropy']"
            ]
          },
          "metadata": {},
          "execution_count": 19
        }
      ],
      "source": [
        "from sklearn.ensemble import RandomForestClassifier\n",
        "from IPython.display import display\n",
        "from ipywidgets import IntProgress\n",
        "crit = ['gini', 'entropy']\n",
        "features = [1, 2, 3, 4, 5, 6, 7, 8]\n",
        "estimators = [100, 200, 300, 400, 500, 600, 700, 800, 900, 1000]\n",
        "best=[0]\n",
        "max_count = len(crit)*len(features)*len(estimators)\n",
        "pg = IntProgress(min=0, max=max_count) # instantiate the bar\n",
        "display(pg) # display the bar\n",
        "for c in crit:\n",
        "  for f in features:\n",
        "    for e in estimators:\n",
        "      clf2 = RandomForestClassifier(n_estimators= e, max_features= f,\n",
        "                                    criterion = c)\n",
        "      clf2.fit(x_train, y_train)\n",
        "\n",
        "      rocauc=roc_auc_score(y_test, clf2.predict(x_test),average='macro')\n",
        "\n",
        "      if rocauc>best[0]:\n",
        "        best = [rocauc, e, f, c]\n",
        "      pg.value += 1\n",
        "best"
      ]
    },
    {
      "cell_type": "markdown",
      "metadata": {
        "id": "AyD4PDMEZa53"
      },
      "source": [
        "Сравнение классификаторов, полученных на изначальной и обогащенной выборках"
      ]
    },
    {
      "cell_type": "code",
      "execution_count": 20,
      "metadata": {
        "colab": {
          "base_uri": "https://localhost:8080/"
        },
        "id": "Bp7wu9uYmVMY",
        "outputId": "f9685e67-d3cf-4127-a8ea-c328a2ac66c4"
      },
      "outputs": [
        {
          "output_type": "stream",
          "name": "stdout",
          "text": [
            "Дерево\n",
            "0.6373580954480327\n",
            "0.8672057502246182\n",
            "SVM\n",
            "0.5846191998236525\n",
            "0.7086927223719677\n",
            "Лес\n",
            "0.683649289099526\n",
            "1.0\n"
          ]
        }
      ],
      "source": [
        "clf_tree=DecisionTreeClassifier(ccp_alpha=0.015, criterion='entropy')\n",
        "clf_svm=svm.SVC(kernel='linear', C=0.1, gamma='scale', coef0=0, degree=2, probability=True)\n",
        "clf_forest = RandomForestClassifier(n_estimators= 100, max_features= 6, criterion = 'gini')\n",
        "clf_tree2=DecisionTreeClassifier(ccp_alpha=0.005, criterion='entropy')\n",
        "clf_svm2=svm.SVC(kernel='poly', C=1, gamma='auto', coef0=1, degree=5, probability=True)\n",
        "clf_forest2 = RandomForestClassifier(n_estimators= 200, max_features= 6, criterion = 'gini')\n",
        "clf_tree.fit(x_train,y_train)\n",
        "clf_svm.fit(x_train,y_train)\n",
        "clf_forest.fit(x_train, y_train)\n",
        "clf_tree2.fit(x_train2,y_train2)\n",
        "clf_svm2.fit(x_train2,y_train2)\n",
        "clf_forest2.fit(x_train2, y_train2)\n",
        "print('Дерево')\n",
        "print(roc_auc_score(y_val, clf_tree.predict(x_val), average='macro'))\n",
        "print(roc_auc_score(y_valid2, clf_tree2.predict(x_valid2), average='macro'))\n",
        "print('SVM')\n",
        "print(roc_auc_score(y_val, clf_svm.predict(x_val), average='macro'))\n",
        "print(roc_auc_score(y_valid2, clf_svm2.predict(x_valid2), average='macro'))\n",
        "print('Лес')\n",
        "print(roc_auc_score(y_val, clf_forest.predict(x_val), average='macro'))\n",
        "print(roc_auc_score(y_valid2, clf_forest2.predict(x_valid2), average='macro'))"
      ]
    }
  ],
  "metadata": {
    "colab": {
      "provenance": []
    },
    "kernelspec": {
      "display_name": "Python 3",
      "name": "python3"
    },
    "language_info": {
      "name": "python"
    },
    "widgets": {
      "application/vnd.jupyter.widget-state+json": {
        "94f301136c6443a7a6bcb0a1810bd80c": {
          "model_module": "@jupyter-widgets/controls",
          "model_name": "IntProgressModel",
          "model_module_version": "1.5.0",
          "state": {
            "_dom_classes": [],
            "_model_module": "@jupyter-widgets/controls",
            "_model_module_version": "1.5.0",
            "_model_name": "IntProgressModel",
            "_view_count": null,
            "_view_module": "@jupyter-widgets/controls",
            "_view_module_version": "1.5.0",
            "_view_name": "ProgressView",
            "bar_style": "",
            "description": "",
            "description_tooltip": null,
            "layout": "IPY_MODEL_9220e323e5f74026911f0630c61a7bea",
            "max": 160,
            "min": 0,
            "orientation": "horizontal",
            "style": "IPY_MODEL_f96e6f50a7544de28e41b43cd163ab06",
            "value": 160
          }
        },
        "9220e323e5f74026911f0630c61a7bea": {
          "model_module": "@jupyter-widgets/base",
          "model_name": "LayoutModel",
          "model_module_version": "1.2.0",
          "state": {
            "_model_module": "@jupyter-widgets/base",
            "_model_module_version": "1.2.0",
            "_model_name": "LayoutModel",
            "_view_count": null,
            "_view_module": "@jupyter-widgets/base",
            "_view_module_version": "1.2.0",
            "_view_name": "LayoutView",
            "align_content": null,
            "align_items": null,
            "align_self": null,
            "border": null,
            "bottom": null,
            "display": null,
            "flex": null,
            "flex_flow": null,
            "grid_area": null,
            "grid_auto_columns": null,
            "grid_auto_flow": null,
            "grid_auto_rows": null,
            "grid_column": null,
            "grid_gap": null,
            "grid_row": null,
            "grid_template_areas": null,
            "grid_template_columns": null,
            "grid_template_rows": null,
            "height": null,
            "justify_content": null,
            "justify_items": null,
            "left": null,
            "margin": null,
            "max_height": null,
            "max_width": null,
            "min_height": null,
            "min_width": null,
            "object_fit": null,
            "object_position": null,
            "order": null,
            "overflow": null,
            "overflow_x": null,
            "overflow_y": null,
            "padding": null,
            "right": null,
            "top": null,
            "visibility": null,
            "width": null
          }
        },
        "f96e6f50a7544de28e41b43cd163ab06": {
          "model_module": "@jupyter-widgets/controls",
          "model_name": "ProgressStyleModel",
          "model_module_version": "1.5.0",
          "state": {
            "_model_module": "@jupyter-widgets/controls",
            "_model_module_version": "1.5.0",
            "_model_name": "ProgressStyleModel",
            "_view_count": null,
            "_view_module": "@jupyter-widgets/base",
            "_view_module_version": "1.2.0",
            "_view_name": "StyleView",
            "bar_color": null,
            "description_width": ""
          }
        }
      }
    }
  },
  "nbformat": 4,
  "nbformat_minor": 0
}